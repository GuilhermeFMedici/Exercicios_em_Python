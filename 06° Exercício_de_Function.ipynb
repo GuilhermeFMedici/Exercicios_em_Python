{
  "nbformat": 4,
  "nbformat_minor": 0,
  "metadata": {
    "kernelspec": {
      "display_name": "Python 3",
      "language": "python",
      "name": "python3"
    },
    "language_info": {
      "codemirror_mode": {
        "name": "ipython",
        "version": 3
      },
      "file_extension": ".py",
      "mimetype": "text/x-python",
      "name": "python",
      "nbconvert_exporter": "python",
      "pygments_lexer": "ipython3",
      "version": "3.8.3"
    },
    "colab": {
      "name": " Exercícios 3 de Function",
      "provenance": [],
      "collapsed_sections": [],
      "include_colab_link": true
    }
  },
  "cells": [
    {
      "cell_type": "markdown",
      "metadata": {
        "id": "view-in-github",
        "colab_type": "text"
      },
      "source": [
        "<a href=\"https://colab.research.google.com/github/GuilhermeFMedici/Exercicios_em_Python/blob/main/Exerc%C3%ADcio_de_Function.ipynb\" target=\"_parent\"><img src=\"https://colab.research.google.com/assets/colab-badge.svg\" alt=\"Open In Colab\"/></a>"
      ]
    },
    {
      "cell_type": "markdown",
      "metadata": {
        "id": "s9vYHPFLBOml"
      },
      "source": [
        "# Exercícios\n",
        "\n",
        "### Antes de irmos para o desafio que apresentamos na última aula (que é bem mais complexo do que um exemplo simples) vamos resolver um exercício um pouco mais simples para treinar\n",
        "\n",
        "## 1. Cálculo do Percentual e da Lista de Vendedores\n",
        "\n",
        "- Queremos criar uma function que consiga identificar os vendedores que bateram uma meta, mas além disso, consigo já me dar como resposta o cálculo do % da lista de vendedores que bateu a meta (para eu não precisar calcular manualmente depois)\n",
        "- Essa function deve receber 2 informações como parâmetro: a meta e um dicionário com os vendedores e suas vendas. E me dar 2 respostas: uma lista com o nome dos vendedores que bateram a meta e o % de vendedores que bateu a meta."
      ]
    },
    {
      "cell_type": "code",
      "metadata": {
        "id": "1HL3lWYMBOmp"
      },
      "source": [
        "meta = 10000\n",
        "vendas = {\n",
        "    'João': 15000,\n",
        "    'Julia': 27000,\n",
        "    'Marcus': 9900,\n",
        "    'Maria': 3750,\n",
        "    'Ana': 10300,\n",
        "    'Alon': 7870,\n",
        "}"
      ],
      "execution_count": null,
      "outputs": []
    },
    {
      "cell_type": "code",
      "metadata": {
        "id": "-5xjjgfoBOm1"
      },
      "source": [
        "#crie sua function aqui\n",
        "def vendedores_bateram_meta(meta, vendas):\n",
        "  lista_vendedores = []\n",
        "  for vendedor in vendas:\n",
        "    if vendas[vendedor] >= meta:\n",
        "      lista_vendedores.append(vendedor)\n",
        "  calculo_perc = len(lista_vendedores) / len(vendas)\n",
        "  return lista_vendedores, calculo_perc"
      ],
      "execution_count": null,
      "outputs": []
    },
    {
      "cell_type": "code",
      "metadata": {
        "id": "9oG2TeXTBOm3",
        "colab": {
          "base_uri": "https://localhost:8080/"
        },
        "outputId": "23b636e9-9e92-4d99-95a8-8ff872f2fb32"
      },
      "source": [
        "#aplique sua function nas informações para ver se está funcionando\n",
        "print(vendedores_bateram_meta(meta, vendas))\n"
      ],
      "execution_count": null,
      "outputs": [
        {
          "output_type": "stream",
          "text": [
            "(['João', 'Julia', 'Ana'], 0.5)\n"
          ],
          "name": "stdout"
        }
      ]
    }
  ]
}
