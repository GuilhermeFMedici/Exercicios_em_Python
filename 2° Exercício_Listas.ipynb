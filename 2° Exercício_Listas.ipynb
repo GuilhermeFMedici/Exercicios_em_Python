{
  "nbformat": 4,
  "nbformat_minor": 0,
  "metadata": {
    "kernelspec": {
      "display_name": "Python 3",
      "language": "python",
      "name": "python3"
    },
    "language_info": {
      "codemirror_mode": {
        "name": "ipython",
        "version": 3
      },
      "file_extension": ".py",
      "mimetype": "text/x-python",
      "name": "python",
      "nbconvert_exporter": "python",
      "pygments_lexer": "ipython3",
      "version": "3.8.3"
    },
    "colab": {
      "name": "Exercícios Listas",
      "provenance": [],
      "collapsed_sections": [],
      "include_colab_link": true
    }
  },
  "cells": [
    {
      "cell_type": "markdown",
      "metadata": {
        "id": "view-in-github",
        "colab_type": "text"
      },
      "source": [
        "<a href=\"https://colab.research.google.com/github/GuilhermeFMedici/Exercicios_em_Python/blob/main/Exerc%C3%ADcios_Listas.ipynb\" target=\"_parent\"><img src=\"https://colab.research.google.com/assets/colab-badge.svg\" alt=\"Open In Colab\"/></a>"
      ]
    },
    {
      "cell_type": "markdown",
      "metadata": {
        "id": "z0XOa0AGIwSV"
      },
      "source": [
        "# Exercícios\n",
        "\n",
        "## 1. Faturamento do Melhor e do Pior Mês do Ano\n",
        "\n",
        "Qual foi o valor de vendas do melhor mês do Ano?\n",
        "E valor do pior mês do ano?"
      ]
    },
    {
      "cell_type": "code",
      "metadata": {
        "id": "H8HoRGsrIwSf",
        "colab": {
          "base_uri": "https://localhost:8080/"
        },
        "outputId": "e467fb2b-4dd8-445c-ad49-a9c52eccbf66"
      },
      "source": [
        "meses = ['jan', 'fev', 'mar', 'abr', 'mai', 'jun', 'jul', 'ago', 'set', 'out', 'nov', 'dez']\n",
        "vendas_1sem = [25000, 29000, 22200, 17750, 15870, 19900]\n",
        "vendas_2sem = [19850, 20120, 17540, 15555, 49051, 9650]\n",
        "\n",
        "vendas_1sem.extend(vendas_2sem)\n",
        "maior_valor = max(vendas_1sem)\n",
        "menor_valor = min(vendas_1sem)\n",
        "print(maior_valor)\n",
        "print(menor_valor)\n",
        "print(vendas_1sem)"
      ],
      "execution_count": null,
      "outputs": [
        {
          "output_type": "stream",
          "text": [
            "49051\n",
            "9650\n",
            "[25000, 29000, 22200, 17750, 15870, 19900, 19850, 20120, 17540, 15555, 49051, 9650]\n"
          ],
          "name": "stdout"
        }
      ]
    },
    {
      "cell_type": "markdown",
      "metadata": {
        "id": "7mdA2Zi7IwSi"
      },
      "source": [
        "## 2. Continuação\n",
        "\n",
        "Agora relacione as duas listas para printar 'O melhor mês do ano foi {} com {} vendas' e o mesmo para o pior mês do ano.\n",
        "\n",
        "Calcule também o faturamento total do Ano e quanto que o melhor mês representou do faturamento total.\n",
        "\n",
        "Obs: Para o faturamento total, pode usar a função sum(lista) que soma todos os itens de uma lista"
      ]
    },
    {
      "cell_type": "code",
      "metadata": {
        "id": "DGDj3JXHIwSj",
        "colab": {
          "base_uri": "https://localhost:8080/"
        },
        "outputId": "403d5019-ab1a-4782-df32-edd92e180ad7"
      },
      "source": [
        "i_maior_valor = vendas_1sem.index(maior_valor)\n",
        "i_menor_valor = vendas_1sem.index(menor_valor)\n",
        "\n",
        "print('O melhor mês do ano foi {} com {} vendas' .format(meses[i_maior_valor], maior_valor))\n",
        "print('O pior mês do ano foi {} com {} vendas' .format(meses[i_menor_valor], menor_valor))\n",
        "\n",
        "fat_total = sum(vendas_1sem)\n",
        "print('O faturamento total do ano foi de: R${:,}' .format(fat_total))\n",
        "\n",
        "percentual_melhor_mes = maior_valor / fat_total\n",
        "print('O melhor mês representou {:.1%}' .format(percentual_melhor_mes))"
      ],
      "execution_count": null,
      "outputs": [
        {
          "output_type": "stream",
          "text": [
            "O melhor mês do ano foi nov com 49051 vendas\n",
            "O pior mês do ano foi dez com 9650 vendas\n",
            "O faturamento total do ano foi de: R$261,486\n",
            "O melhor mês representou 18.8%\n"
          ],
          "name": "stdout"
        }
      ]
    },
    {
      "cell_type": "markdown",
      "metadata": {
        "id": "u0dLm2WKIwSm"
      },
      "source": [
        "## 3. Crie uma lista com o top 3 valores de vendas do ano (sem fazer \"no olho\")\n",
        "\n",
        "Dica: o método remove retira um item da lista."
      ]
    },
    {
      "cell_type": "code",
      "metadata": {
        "id": "Z1CEa4ECIwSo",
        "colab": {
          "base_uri": "https://localhost:8080/"
        },
        "outputId": "5665d79e-4c47-4918-9e33-622edd321737"
      },
      "source": [
        "top3 = []\n",
        "print(vendas_1sem)\n",
        "\n",
        "maior_valor = max(vendas_1sem)\n",
        "top3.append(maior_valor)\n",
        "\n",
        "vendas_1sem.remove(maior_valor)\n",
        "print(vendas_1sem)\n",
        "\n",
        "maior_valor = max(vendas_1sem)\n",
        "top3.append(maior_valor)\n",
        "\n",
        "vendas_1sem.remove(maior_valor)\n",
        "print(vendas_1sem)\n",
        "\n",
        "maior_valor = max(vendas_1sem)\n",
        "top3.append(maior_valor)\n",
        "print('O top 3 valores de vendas do ano é {}' .format(top3))"
      ],
      "execution_count": null,
      "outputs": [
        {
          "output_type": "stream",
          "text": [
            "[25000, 29000, 22200, 17750, 15870, 19900, 19850, 20120, 17540, 15555, 49051, 9650]\n",
            "[25000, 29000, 22200, 17750, 15870, 19900, 19850, 20120, 17540, 15555, 9650]\n",
            "[25000, 22200, 17750, 15870, 19900, 19850, 20120, 17540, 15555, 9650]\n",
            "O top 3 valores de vendas do ano é [49051, 29000, 25000]\n"
          ],
          "name": "stdout"
        }
      ]
    },
    {
      "cell_type": "code",
      "metadata": {
        "id": "wyedVNUWULuG"
      },
      "source": [
        ""
      ],
      "execution_count": null,
      "outputs": []
    }
  ]
}
