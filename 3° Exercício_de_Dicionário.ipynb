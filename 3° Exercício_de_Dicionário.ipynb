{
  "nbformat": 4,
  "nbformat_minor": 0,
  "metadata": {
    "kernelspec": {
      "display_name": "Python 3",
      "language": "python",
      "name": "python3"
    },
    "language_info": {
      "codemirror_mode": {
        "name": "ipython",
        "version": 3
      },
      "file_extension": ".py",
      "mimetype": "text/x-python",
      "name": "python",
      "nbconvert_exporter": "python",
      "pygments_lexer": "ipython3",
      "version": "3.8.3"
    },
    "colab": {
      "name": "Exercício de Dicionário",
      "provenance": [],
      "collapsed_sections": [],
      "include_colab_link": true
    }
  },
  "cells": [
    {
      "cell_type": "markdown",
      "metadata": {
        "id": "view-in-github",
        "colab_type": "text"
      },
      "source": [
        "<a href=\"https://colab.research.google.com/github/GuilhermeFMedici/Exercicios_em_Python/blob/main/Exerc%C3%ADcio_de_Dicion%C3%A1rio.ipynb\" target=\"_parent\"><img src=\"https://colab.research.google.com/assets/colab-badge.svg\" alt=\"Open In Colab\"/></a>"
      ]
    },
    {
      "cell_type": "markdown",
      "metadata": {
        "id": "iws4hjZTTVw4"
      },
      "source": [
        "# Exercícios\n",
        "\n",
        "## 1. Exercício \"menos prático\" para treinar manipulação de dicionário\n",
        "\n",
        "Dessa vez, vamos apenas treinar a manipulação de dicionário. Transforme as listas abaixo em 1 único dicionário no formato:"
      ]
    },
    {
      "cell_type": "raw",
      "metadata": {
        "id": "VeO7pUaRTVxA"
      },
      "source": [
        "dicionario = {\n",
        "    produto: [vendas2019, vendas2020],\n",
        "    produto2: [vendas2019, vendas2020],\n",
        "    produto3: [vendas2019, vendas2020],\n",
        "    ...\n",
        "}"
      ]
    },
    {
      "cell_type": "markdown",
      "metadata": {
        "id": "-vBkzQxRTVxD"
      },
      "source": [
        "- Apesar de parecer \"menos prático\" esse é um procedimento que precisamos nos acostumar a fazer, visto que algumas funções (tema dos próximos módulos) precisam de dicionários para funcionar e saber transformar listas em dicionários (e vice-versa) é uma habilidade muito útil\n",
        "\n",
        "Obs: Lembre do zip para juntar listas.<br>\n",
        "Obs2: Repare que cada item das vendas é na verdade uma lista. Então é provável que você precise fazer esse código em 2 etapas"
      ]
    },
    {
      "cell_type": "code",
      "metadata": {
        "id": "igHfMtNjTVxF",
        "colab": {
          "base_uri": "https://localhost:8080/"
        },
        "outputId": "68138755-e73e-4635-871f-9acd77a755bc"
      },
      "source": [
        "produtos = ['iphone', 'galaxy', 'ipad', 'tv', 'máquina de café', 'kindle', 'geladeira', 'adega', 'notebook dell', 'notebook hp', 'notebook asus', 'microsoft surface', 'webcam', 'caixa de som', 'microfone', 'câmera canon']\n",
        "vendas2019 = [558147,712350,573823,405252,718654,531580,973139,892292,422760,154753,887061,438508,237467,489705,328311,591120]\n",
        "vendas2020 = [951642,244295,26964,787604,867660,78830,710331,646016,694913,539704,324831,667179,295633,725316,644622,994303]\n",
        "\n",
        "#seu código aqui\n",
        "lista_tuplas = list(zip(vendas2019, vendas2020))\n",
        "\n",
        "vendas = dict(zip(lista_tuplas, produtos))\n",
        "print(vendas)"
      ],
      "execution_count": null,
      "outputs": [
        {
          "output_type": "stream",
          "text": [
            "{(558147, 951642): 'iphone', (712350, 244295): 'galaxy', (573823, 26964): 'ipad', (405252, 787604): 'tv', (718654, 867660): 'máquina de café', (531580, 78830): 'kindle', (973139, 710331): 'geladeira', (892292, 646016): 'adega', (422760, 694913): 'notebook dell', (154753, 539704): 'notebook hp', (887061, 324831): 'notebook asus', (438508, 667179): 'microsoft surface', (237467, 295633): 'webcam', (489705, 725316): 'caixa de som', (328311, 644622): 'microfone', (591120, 994303): 'câmera canon'}\n"
          ],
          "name": "stdout"
        }
      ]
    }
  ]
}
