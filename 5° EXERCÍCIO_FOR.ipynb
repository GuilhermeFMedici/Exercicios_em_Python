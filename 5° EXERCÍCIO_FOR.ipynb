{
  "nbformat": 4,
  "nbformat_minor": 0,
  "metadata": {
    "kernelspec": {
      "display_name": "Python 3",
      "language": "python",
      "name": "python3"
    },
    "language_info": {
      "codemirror_mode": {
        "name": "ipython",
        "version": 3
      },
      "file_extension": ".py",
      "mimetype": "text/x-python",
      "name": "python",
      "nbconvert_exporter": "python",
      "pygments_lexer": "ipython3",
      "version": "3.8.3"
    },
    "colab": {
      "name": "EXERCIO 1 - FOR",
      "provenance": [],
      "collapsed_sections": [],
      "include_colab_link": true
    }
  },
  "cells": [
    {
      "cell_type": "markdown",
      "metadata": {
        "id": "view-in-github",
        "colab_type": "text"
      },
      "source": [
        "<a href=\"https://colab.research.google.com/github/GuilhermeFMedici/Exercicios_em_Python/blob/main/EXERC%C3%8DCIO_FOR.ipynb\" target=\"_parent\"><img src=\"https://colab.research.google.com/assets/colab-badge.svg\" alt=\"Open In Colab\"/></a>"
      ]
    },
    {
      "cell_type": "markdown",
      "metadata": {
        "id": "M-E8cOYDBJER"
      },
      "source": [
        "# Exercícios\n",
        "\n",
        "## 1. Criando um Registro de Hóspedes\n",
        "\n",
        "Digamos que você está criando o sistema para registrar a chegada de hóspedes em um hotel. No hotel, os hóspedes podem ter quartos com 1, 2, 3 e 4 pessoas. Seu sistema deve conseguir:\n",
        "\n",
        "1. Identificar quantas pessoas o hóspede que acabou de chegar vai ter no quarto (perguntando por meio de input)\n",
        "2. De acordo com a quantidade de pessoas do hóspede, ele deve fazer um for para perguntar o cpf e o nome de cada pessoa, a fim de registrá-la no quarto (2 inputs para cada pessoa, 1 para o cpf e outro para o nome)\n",
        "3. O seu programa então deve gerar uma lista com todas as pessoas que ficarão no quarto em que cada item dessa lista é o nome da pessoa e o cpf da pessoa, assim:"
      ]
    },
    {
      "cell_type": "raw",
      "metadata": {
        "id": "YCB3YW_zBJEd"
      },
      "source": [
        "quarto = [\n",
        "    ['João', 'cpf:00000000000'],\n",
        "    ['Julia', 'cpf:11111111111'],\n",
        "    ['Marcus', 'cpf:22222222222'],\n",
        "    ['Maria', 'cpf:33333333333'],\n",
        "]"
      ]
    },
    {
      "cell_type": "markdown",
      "metadata": {
        "id": "bPAUxc3tBJEf"
      },
      "source": [
        "- Para simplificar, não vamos nos preocupar com possibilidades de \"tentar colocar mais de 1 hóspede, digitar o cpf errado, etc. Nosso objetivo é treinar a criação de uma rotina de cadastro"
      ]
    },
    {
      "cell_type": "code",
      "metadata": {
        "id": "MLMmBNiWBJEh",
        "colab": {
          "base_uri": "https://localhost:8080/"
        },
        "outputId": "98c3ad62-5bf7-4d93-c558-8c0ccb19e2e3"
      },
      "source": [
        "#seu código aqui\n",
        "\n",
        "qtde_pessoas = int(input('Quantidade de pessoas?'))\n",
        "quarto = []\n",
        "\n",
        "for i in range(qtde_pessoas):\n",
        "  nome = input('Qual o nome?')\n",
        "  cpf = input('Qual o cpf?')\n",
        "  hospede = [nome, + ' Cpf: {}' .format(cpf)]\n",
        "  quarto.append(hospede)\n",
        "\n",
        "print(quarto)\n",
        " "
      ],
      "execution_count": null,
      "outputs": [
        {
          "output_type": "stream",
          "text": [
            "Quantidade de pessoas?2\n",
            "Qual o nome?gui\n",
            "Qual o cpf?43455434556\n",
            "Qual o nome?grtt\n",
            "Qual o cpf?54565676787\n",
            "[['gui Cpf: 43455434556'], ['grtt Cpf: 54565676787']]\n"
          ],
          "name": "stdout"
        }
      ]
    },
    {
      "cell_type": "markdown",
      "metadata": {
        "id": "L1mYeCGfBJEj"
      },
      "source": [
        "## 2. Análise de Vendas\n",
        "\n",
        "Nesse exercício vamos fazer uma \"análise simples\" de atingimento de Meta.\n",
        "\n",
        "Temos uma lista com os vendedores e os valores de vendas e queremos identificar (printar) quais os vendedores que bateram a meta e qual foi o valor que eles venderam."
      ]
    },
    {
      "cell_type": "code",
      "metadata": {
        "id": "xNG-YKDABJEl",
        "colab": {
          "base_uri": "https://localhost:8080/"
        },
        "outputId": "375e2fa6-1aa7-4737-9217-7f15e24afe38"
      },
      "source": [
        "meta = 10000\n",
        "vendas = [\n",
        "    ['João', 15000],\n",
        "    ['Julia', 27000],\n",
        "    ['Marcus', 9900],\n",
        "    ['Maria', 3750],\n",
        "    ['Ana', 10300],\n",
        "    ['Alon', 7870],\n",
        "]\n",
        "\n",
        "# INDICES:   [0]   [1]\n",
        "         #['João', 15000]\n",
        "         #['Julia', 27000]\n",
        "         #['Marcus', 9900]\n",
        "         #['Maria', 3750]\n",
        "         #['Ana', 10300]\n",
        "        #['Alon', 7870]\n",
        "\n",
        "for venda in vendas:\n",
        "  if venda[1] >= meta:\n",
        "    print('O vendedor {} bateu a meta. Fez {} vendas.' .format(venda[0], venda[1]))\n",
        "\n",
        "\n",
        "\n"
      ],
      "execution_count": null,
      "outputs": [
        {
          "output_type": "stream",
          "text": [
            "O vendedor João bateu a meta. Fez 15000 vendas.\n",
            "O vendedor Julia bateu a meta. Fez 27000 vendas.\n",
            "O vendedor Ana bateu a meta. Fez 10300 vendas.\n"
          ],
          "name": "stdout"
        }
      ]
    },
    {
      "cell_type": "markdown",
      "metadata": {
        "id": "ByxNURyXBJEm"
      },
      "source": [
        "## 3. Comparação com Ano Anterior\n",
        "\n",
        "Digamos que você está analisando as vendas de produtos de um ecommerce e quer identificar quais produtos tiveram no ano de 2020 mais vendas do que no ano de 2019, para reportar isso para a diretoria.\n",
        "\n",
        "Sua resposta pode ser um print de cada produto, qual foi a venda de 2019, a venda de 2020 e o % de crescimento de 2020 para 2019.\n",
        "\n",
        "Lembrando, para calcular o % de crescimento de um produto de um ano para o outro, podemos fazer: (vendas_produto2020/vendas_produto2019 - 1)\n",
        "\n",
        "Dica: lembre do enumerate, ele pode facilitar seu \"for\""
      ]
    },
    {
      "cell_type": "code",
      "metadata": {
        "id": "4s6nvmwxBJEr",
        "colab": {
          "base_uri": "https://localhost:8080/"
        },
        "outputId": "a60ab824-3563-4abf-cb8c-25ddbdd0e8d7"
      },
      "source": [
        "produtos = ['iphone', 'galaxy', 'ipad', 'tv', 'máquina de café', 'kindle', 'geladeira', 'adega', 'notebook dell', 'notebook hp', 'notebook asus', 'microsoft surface', 'webcam', 'caixa de som', 'microfone', 'câmera canon']\n",
        "vendas2019 = [558147,712350,573823,405252,718654,531580,973139,892292,422760,154753,887061,438508,237467,489705,328311,591120]\n",
        "vendas2020 = [951642,244295,26964,787604,867660,78830,710331,646016,694913,539704,324831,667179,295633,725316,644622,994303]\n",
        "#seu código aqui\n",
        "\n",
        "for i, produto in enumerate(produtos):\n",
        "  if vendas2020 > vendas2019:\n",
        "    crescimento = vendas2020[i] / vendas2019[i] - 1\n",
        "    print('O {} vendeu R${:,} em 2019, R${:,} em 2020 e teve {:.1%} de crescimento.' .format(produto, vendas2019[i], vendas2020[i], crescimento))\n"
      ],
      "execution_count": null,
      "outputs": [
        {
          "output_type": "stream",
          "text": [
            "O iphone vendeu R$558,147 em 2019, R$951,642 em 2020 e teve 70.5% de crescimento.\n",
            "O galaxy vendeu R$712,350 em 2019, R$244,295 em 2020 e teve -65.7% de crescimento.\n",
            "O ipad vendeu R$573,823 em 2019, R$26,964 em 2020 e teve -95.3% de crescimento.\n",
            "O tv vendeu R$405,252 em 2019, R$787,604 em 2020 e teve 94.3% de crescimento.\n",
            "O máquina de café vendeu R$718,654 em 2019, R$867,660 em 2020 e teve 20.7% de crescimento.\n",
            "O kindle vendeu R$531,580 em 2019, R$78,830 em 2020 e teve -85.2% de crescimento.\n",
            "O geladeira vendeu R$973,139 em 2019, R$710,331 em 2020 e teve -27.0% de crescimento.\n",
            "O adega vendeu R$892,292 em 2019, R$646,016 em 2020 e teve -27.6% de crescimento.\n",
            "O notebook dell vendeu R$422,760 em 2019, R$694,913 em 2020 e teve 64.4% de crescimento.\n",
            "O notebook hp vendeu R$154,753 em 2019, R$539,704 em 2020 e teve 248.8% de crescimento.\n",
            "O notebook asus vendeu R$887,061 em 2019, R$324,831 em 2020 e teve -63.4% de crescimento.\n",
            "O microsoft surface vendeu R$438,508 em 2019, R$667,179 em 2020 e teve 52.1% de crescimento.\n",
            "O webcam vendeu R$237,467 em 2019, R$295,633 em 2020 e teve 24.5% de crescimento.\n",
            "O caixa de som vendeu R$489,705 em 2019, R$725,316 em 2020 e teve 48.1% de crescimento.\n",
            "O microfone vendeu R$328,311 em 2019, R$644,622 em 2020 e teve 96.3% de crescimento.\n",
            "O câmera canon vendeu R$591,120 em 2019, R$994,303 em 2020 e teve 68.2% de crescimento.\n"
          ],
          "name": "stdout"
        }
      ]
    }
  ]
}
