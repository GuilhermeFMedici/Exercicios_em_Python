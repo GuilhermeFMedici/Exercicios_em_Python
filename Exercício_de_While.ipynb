{
  "nbformat": 4,
  "nbformat_minor": 0,
  "metadata": {
    "kernelspec": {
      "display_name": "Python 3",
      "language": "python",
      "name": "python3"
    },
    "language_info": {
      "codemirror_mode": {
        "name": "ipython",
        "version": 3
      },
      "file_extension": ".py",
      "mimetype": "text/x-python",
      "name": "python",
      "nbconvert_exporter": "python",
      "pygments_lexer": "ipython3",
      "version": "3.8.3"
    },
    "colab": {
      "name": "Exercício de While",
      "provenance": [],
      "include_colab_link": true
    }
  },
  "cells": [
    {
      "cell_type": "markdown",
      "metadata": {
        "id": "view-in-github",
        "colab_type": "text"
      },
      "source": [
        "<a href=\"https://colab.research.google.com/github/GuilhermeFMedici/Exercicios_em_Python/blob/main/Exerc%C3%ADcio_de_While.ipynb\" target=\"_parent\"><img src=\"https://colab.research.google.com/assets/colab-badge.svg\" alt=\"Open In Colab\"/></a>"
      ]
    },
    {
      "cell_type": "markdown",
      "metadata": {
        "id": "2IiQwiiFJhjc"
      },
      "source": [
        "# Exercícios\n",
        "\n",
        "## 1. Input até o usuário parar\n",
        "\n",
        "Vamos criar um sistema de vendas. Nosso programa deve registrar os produtos e as quantidades (2 inputs) e adicionar em uma lista.\n",
        "\n",
        "O programa deve continuar rodando até o input ser vazio, ou seja, o usuário apertar enter sem digitar nenhum produto ou quantidade.\n",
        "\n",
        "Ao final do programa, ele deve printar todos os produtos e quantidades vendidas.\n",
        "\n",
        "Obs: Caso queira, para o print ficar mais visual, pode usar o join para cada item ser printado em uma linha.\n",
        "Sugestão para sua lista de produtos vendidos:"
      ]
    },
    {
      "cell_type": "raw",
      "metadata": {
        "id": "B8MzdTPqJhjm"
      },
      "source": [
        "vendas = [\n",
        "    ['maçã', 5],\n",
        "    ['banana', 15],\n",
        "    ['azeite', 1],\n",
        "    ['vinho', 3],\n",
        "]"
      ]
    },
    {
      "cell_type": "code",
      "metadata": {
        "colab": {
          "base_uri": "https://localhost:8080/"
        },
        "id": "4JxrGJUKMfjE",
        "outputId": "d3feb905-c50d-40d8-fe02-f51c12f1dfba"
      },
      "source": [
        "#OUTRA FORMA DE USAR O WHILE (COM BREAK)\n",
        "\n",
        "pedido = []\n",
        "\n",
        "while True:\n",
        "  produto = input('Qual o produto: ')\n",
        "  if not produto:\n",
        "    break\n",
        "  quantidade = int(input('Qual a quantidade: s'))\n",
        "  pedido.append([produto, quantidade])\n",
        "\n",
        "print('Seu pedido foi: {}'.format(pedido))"
      ],
      "execution_count": null,
      "outputs": [
        {
          "output_type": "stream",
          "text": [
            "Qual o produto: Leite\n",
            "Qual a quantidade: 4\n",
            "Qual o produto: arroz\n",
            "Qual a quantidade: 2\n",
            "Qual o produto: feijao\n",
            "Qual a quantidade: 2\n",
            "Qual o produto: café\n",
            "Qual a quantidade: 3\n",
            "Qual o produto: açucar\n",
            "Qual a quantidade: 2\n",
            "Qual o produto: margarina\n",
            "Qual a quantidade: 3\n",
            "Qual o produto: \n",
            "Seu pedido foi: [['Leite', 4], ['arroz', 2], ['feijao', 2], ['café', 3], ['açucar', 2], ['margarina', 3]]\n"
          ],
          "name": "stdout"
        }
      ]
    },
    {
      "cell_type": "markdown",
      "metadata": {
        "id": "IKwMipF7Jhjr"
      },
      "source": [
        "### Obs: Podemos fazer o While de 2 maneiras:\n",
        "\n",
        "1. While com a condição que finalize o programa\n",
        "2. While rodando para sempre, mas com uma condição dentro do while que dê um break no código.\n",
        "\n",
        "Vamos mostrar as 2 opções"
      ]
    }
  ]
}