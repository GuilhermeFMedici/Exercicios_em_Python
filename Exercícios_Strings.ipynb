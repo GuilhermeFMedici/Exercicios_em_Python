{
  "nbformat": 4,
  "nbformat_minor": 0,
  "metadata": {
    "kernelspec": {
      "display_name": "Python 3",
      "language": "python",
      "name": "python3"
    },
    "language_info": {
      "codemirror_mode": {
        "name": "ipython",
        "version": 3
      },
      "file_extension": ".py",
      "mimetype": "text/x-python",
      "name": "python",
      "nbconvert_exporter": "python",
      "pygments_lexer": "ipython3",
      "version": "3.8.3"
    },
    "colab": {
      "name": "Exercícios Strings",
      "provenance": [],
      "collapsed_sections": [],
      "include_colab_link": true
    }
  },
  "cells": [
    {
      "cell_type": "markdown",
      "metadata": {
        "id": "view-in-github",
        "colab_type": "text"
      },
      "source": [
        "<a href=\"https://colab.research.google.com/github/GuilhermeFMedici/Exercicios_em_Python/blob/main/Exerc%C3%ADcios_Strings.ipynb\" target=\"_parent\"><img src=\"https://colab.research.google.com/assets/colab-badge.svg\" alt=\"Open In Colab\"/></a>"
      ]
    },
    {
      "cell_type": "markdown",
      "metadata": {
        "id": "OJEetdcGADfI"
      },
      "source": [
        "# Exercícios\n",
        "\n",
        "## 1. Cadastro de CPF\n",
        "\n",
        "Crie um programa para cadastro de CPF de clientes que recebe o CPF em um input box apenas com números.\n",
        "\n",
        "Ex: 'Insira seu CPF (digite apenas números)'\n",
        "\n",
        "Caso o usuário digite algo diferente de números ou digite menos de 11 caracteres (tamanho do CPF brasileiro), o programa deve exibir uma mensagem de \"Digite seu CPF corretamente e digite apenas números\""
      ]
    },
    {
      "cell_type": "code",
      "metadata": {
        "id": "9BeMrhqSADfj",
        "colab": {
          "base_uri": "https://localhost:8080/"
        },
        "outputId": "7ec6877e-4510-4d8a-b8b0-d7e6a8ccbf02"
      },
      "source": [
        "cpf = input('Insira seu CPF (digite apenas números)')\n",
        "\n",
        "#Se meu cpf for até 11 caracteres e só conter números o cpf é válido, caso contrário, o cpf é invalido\n",
        "if len(cpf) == 11 and cpf.isnumeric():\n",
        "  print('CPF válido')\n",
        "else:\n",
        "  print('Digite seu CPF corretamente e digite apenas números')"
      ],
      "execution_count": null,
      "outputs": [
        {
          "output_type": "stream",
          "text": [
            "Insira seu CPF (digite apenas números)51690414898\n",
            "CPF válido\n"
          ],
          "name": "stdout"
        }
      ]
    },
    {
      "cell_type": "markdown",
      "metadata": {
        "id": "aRdBDNfZADfn"
      },
      "source": [
        "## 2. Melhorando nosso Cadastro de CPF\n",
        "\n",
        "Agora, além das validações anteriores, vamos criar um input que permita que o usuário insira pontos, traços e inclusive espaços vazios.\n",
        "\n",
        "Nosso programa deve \"tratar\" o que o usuário inserir para padronizar o CPF dele em apenas números.\n",
        "\n",
        "A verificação de tamanho do CPF com 11 caracteres continua válida, mas ela só deve ser feita depois de retirar todos os pontos, traços e espaços do CPF que o cliente inserir e, uma vez retirados pontos, traços e espaços, devem sobrar apenas números no CPF. Qualquer outro caractere deve ser considerado inválido.\n",
        "\n",
        "No final, nosso programa deve exibir uma mensagem para o usuário, caso ele tenha inserido o CPF inválido ou então apenas deve printar o CPF correto já só com número."
      ]
    },
    {
      "cell_type": "code",
      "metadata": {
        "id": "4Fi74NKoADfp"
      },
      "source": [
        "cpf = input('Insira seu CPF')\n",
        "\n",
        "#tirar espaços a mais no inicio e no final\n",
        "cpf = cpf.strip()\n",
        "#tirar pontos (substituir os pontos por um espaço vazio)\n",
        "cpf = cpf.replace('.' , '')\n",
        "#tirar traços (substituir o traço por um espaço vazio)\n",
        "cpf = cpf.replace('-' , '')\n",
        "\n",
        "if len(cpf) == 11 and cpf.isnumeric():\n",
        "  print(cpf)\n",
        "else:\n",
        "  print('Digite seu CPF corretamente e digite apenas números')"
      ],
      "execution_count": null,
      "outputs": []
    },
    {
      "cell_type": "markdown",
      "metadata": {
        "id": "Z-qqqdNcADfz"
      },
      "source": [
        "## 3. Cadastro de e-mails\n",
        "\n",
        "- A Hashtag sempre se comunica com seus clientes por e-mail. Para isso, a gente tem em cada página um cadastro de nome e e-mail. Nesse cadastro, nosso sistema verifica se o e-mail que a pessoa inseriu é um e-mail válido, verificando se ele tem '@' e se depois do '@' tem algum ponto, afinal:\n",
        "\n",
        "- liragmail.com NÃO é um e-mail válido\n",
        "- lira@gmail NÃO é um e-mail válido\n",
        "- lira@gmail.com é um e-mail válido\n",
        "\n",
        "Crie um programa que permita o cadastro de nome e e-mail de uma pessoa (por meio de inputs) e que verifique:\n",
        "1. Se nome e e-mail foram preenchidos, caso contrário ele deve avisar para preencher todos os dados corretamente\n",
        "2. Se o e-mail contém '@' e se depois do '@' existe algum '.', caso contrário ele deve exibir uma mensagem de e-mail inválido\n",
        "\n",
        "Obs: Pode te ajudar lembrar do método .find da aula de Métodos de String. Você pode testar o que ele dá como resposta caso ele não encontre um item dentro da string"
      ]
    },
    {
      "cell_type": "code",
      "metadata": {
        "id": "EB5LW0qdADgH",
        "colab": {
          "base_uri": "https://localhost:8080/"
        },
        "outputId": "189bc6db-1a57-409c-d438-c6dc757e8018"
      },
      "source": [
        "nome = input('Qual é o seu nome?')\n",
        "email = input('Qual é o seu e-mail?')\n",
        "\n",
        "if nome and email:\n",
        "  pos_a = email.find('@') #procurar @ no email\n",
        "  servidor = email[pos_a:] #servidor recebe o que vem depois do @\n",
        "  if pos_a != -1 and \".\" in servidor: #se @ for diferente de -1 e se tiver .(ponto) no servidor \n",
        "    print('Cadastro concluído')\n",
        "  else:\n",
        "    print('Cadastro inválido')\n",
        "else:\n",
        "  print('Email inválido')"
      ],
      "execution_count": null,
      "outputs": [
        {
          "output_type": "stream",
          "text": [
            "Qual é o seu nome?Guilherme\n",
            "Qual é o seu e-mail?guilherme@hotmailcom\n",
            "Cadastro inválido\n"
          ],
          "name": "stdout"
        }
      ]
    }
  ]
}