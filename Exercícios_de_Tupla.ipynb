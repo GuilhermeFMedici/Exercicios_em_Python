{
  "nbformat": 4,
  "nbformat_minor": 0,
  "metadata": {
    "kernelspec": {
      "display_name": "Python 3",
      "language": "python",
      "name": "python3"
    },
    "language_info": {
      "codemirror_mode": {
        "name": "ipython",
        "version": 3
      },
      "file_extension": ".py",
      "mimetype": "text/x-python",
      "name": "python",
      "nbconvert_exporter": "python",
      "pygments_lexer": "ipython3",
      "version": "3.8.3"
    },
    "colab": {
      "name": " Exercícios de Tupla",
      "provenance": [],
      "collapsed_sections": [],
      "include_colab_link": true
    }
  },
  "cells": [
    {
      "cell_type": "markdown",
      "metadata": {
        "id": "view-in-github",
        "colab_type": "text"
      },
      "source": [
        "<a href=\"https://colab.research.google.com/github/GuilhermeFMedici/Exercicios_em_Python/blob/main/Exerc%C3%ADcios_de_Tupla.ipynb\" target=\"_parent\"><img src=\"https://colab.research.google.com/assets/colab-badge.svg\" alt=\"Open In Colab\"/></a>"
      ]
    },
    {
      "cell_type": "markdown",
      "metadata": {
        "id": "3vNDIqQpcC_i"
      },
      "source": [
        "# Exercícios\n",
        "\n",
        "São exercícios bem parecidos com os que fizemos com listas. Mas na tupla, podemos não só trabalhar com índices, mas fazer o \"unpacking\" das tuplas, o que pode facilitar nossos códigos.\n",
        "\n",
        "## 1. Análise de Vendas\n",
        "\n",
        "Nesse exercício vamos fazer uma \"análise simples\" de atingimento de Meta.\n",
        "\n",
        "Temos uma lista com os vendedores e os valores de vendas e queremos identificar (printar) quais os vendedores que bateram a meta e qual foi o valor que eles venderam."
      ]
    },
    {
      "cell_type": "code",
      "metadata": {
        "id": "7N__xojTcC_t",
        "colab": {
          "base_uri": "https://localhost:8080/"
        },
        "outputId": "16f9473f-c96e-46d0-8235-bfbcd838a154"
      },
      "source": [
        "meta = 10000\n",
        "vendas = [\n",
        "    ('João', 15000),\n",
        "    ('Julia', 27000),\n",
        "    ('Marcus', 9900),\n",
        "    ('Maria', 3750),\n",
        "    ('Ana', 10300),\n",
        "    ('Alon', 7870),\n",
        "]\n",
        "\n",
        "for venda in vendas:\n",
        "  nome, vendas_feitas = venda\n",
        "  if vendas_feitas >= meta:\n",
        "    print('{} bateu a meta com {} vendas.' .format(nome, vendas_feitas))\n"
      ],
      "execution_count": null,
      "outputs": [
        {
          "output_type": "stream",
          "text": [
            "João bateu a meta com 15000 vendas.\n",
            "Julia bateu a meta com 27000 vendas.\n",
            "Ana bateu a meta com 10300 vendas.\n"
          ],
          "name": "stdout"
        }
      ]
    },
    {
      "cell_type": "markdown",
      "metadata": {
        "id": "RE7rJGstcC_w"
      },
      "source": [
        "## 2. Comparação com Ano Anterior\n",
        "\n",
        "Digamos que você está analisando as vendas de produtos de um ecommerce e quer identificar quais produtos tiveram no ano de 2020 mais vendas do que no ano de 2019, para reportar isso para a diretoria.\n",
        "\n",
        "Sua resposta pode ser um print de cada produto, qual foi a venda de 2019, a venda de 2020 e o % de crescimento de 2020 para 2019.\n",
        "\n",
        "Lembrando, para calcular o % de crescimento de um produto de um ano para o outro, podemos fazer: (vendas_produto2020/vendas_produto2019 - 1)\n",
        "\n",
        "A lógica da tupla é: (produto, vendas2019, vendas2020)"
      ]
    },
    {
      "cell_type": "code",
      "metadata": {
        "id": "3q9L9WrpcC_y",
        "colab": {
          "base_uri": "https://localhost:8080/"
        },
        "outputId": "e967feca-1f33-4a03-b888-9fa9e1fd2979"
      },
      "source": [
        "vendas_produtos = [('iphone', 558147, 951642), ('galaxy', 712350, 244295), ('ipad', 573823, 26964), ('tv', 405252, 787604), ('máquina de café', 718654, 867660), ('kindle', 531580, 78830), ('geladeira', 973139, 710331), ('adega', 892292, 646016), ('notebook dell', 422760, 694913), ('notebook hp', 154753, 539704), ('notebook asus', 887061, 324831), ('microsoft surface', 438508, 667179), ('webcam', 237467, 295633), ('caixa de som', 489705, 725316), ('microfone', 328311, 644622), ('câmera canon', 591120, 994303)]\n",
        "\n",
        "#seu código aqui\n",
        "\n",
        "for item in vendas_produtos:\n",
        "  produto, vendas2019, vendas2020 = item\n",
        "  if vendas2020 > vendas2019:\n",
        "    crescimento = vendas2020 / vendas2019 - 1 \n",
        "    print('{} teve {} vendas em 2020 e {} vendas em 2019. O crescimento desse produto de 2020 para 2019 foi {:.1%}'.format(produto,vendas2020,vendas2019,crescimento))\n"
      ],
      "execution_count": null,
      "outputs": [
        {
          "output_type": "stream",
          "text": [
            "iphone teve 951642 vendas em 2020 e 558147 vendas em 2019. O crescimento desse produto de 2020 para 2019 foi 70.5%\n",
            "tv teve 787604 vendas em 2020 e 405252 vendas em 2019. O crescimento desse produto de 2020 para 2019 foi 94.3%\n",
            "máquina de café teve 867660 vendas em 2020 e 718654 vendas em 2019. O crescimento desse produto de 2020 para 2019 foi 20.7%\n",
            "notebook dell teve 694913 vendas em 2020 e 422760 vendas em 2019. O crescimento desse produto de 2020 para 2019 foi 64.4%\n",
            "notebook hp teve 539704 vendas em 2020 e 154753 vendas em 2019. O crescimento desse produto de 2020 para 2019 foi 248.8%\n",
            "microsoft surface teve 667179 vendas em 2020 e 438508 vendas em 2019. O crescimento desse produto de 2020 para 2019 foi 52.1%\n",
            "webcam teve 295633 vendas em 2020 e 237467 vendas em 2019. O crescimento desse produto de 2020 para 2019 foi 24.5%\n",
            "caixa de som teve 725316 vendas em 2020 e 489705 vendas em 2019. O crescimento desse produto de 2020 para 2019 foi 48.1%\n",
            "microfone teve 644622 vendas em 2020 e 328311 vendas em 2019. O crescimento desse produto de 2020 para 2019 foi 96.3%\n",
            "câmera canon teve 994303 vendas em 2020 e 591120 vendas em 2019. O crescimento desse produto de 2020 para 2019 foi 68.2%\n"
          ],
          "name": "stdout"
        }
      ]
    }
  ]
}